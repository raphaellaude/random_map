{
 "cells": [
  {
   "cell_type": "code",
   "execution_count": 2,
   "id": "d2c0b172",
   "metadata": {},
   "outputs": [],
   "source": [
    "import pandas as pd, numpy as np, matplotlib.pyplot as plt, slime\n",
    "from importlib import reload\n",
    "from copy import deepcopy"
   ]
  },
  {
   "cell_type": "code",
   "execution_count": 152,
   "id": "34d3974f",
   "metadata": {},
   "outputs": [],
   "source": [
    "from shapely.geometry import LineString\n",
    "import geopandas as gpd\n",
    "\n",
    "def get_path(trails, start, end):\n",
    "    path = [start]\n",
    "    weight = 0\n",
    "    \n",
    "    loc = start\n",
    "    \n",
    "    trails = np.copy(trails)\n",
    "    \n",
    "    while loc != end:\n",
    "        x, y = loc\n",
    "        trails[x, y] = 0\n",
    "        \n",
    "        vicinity = np.pad(trails, 1)[x:x+3, y:y+3]\n",
    "        \n",
    "        assert vicinity.sum() > 0, f'vicinity must have at least one value gt 0: {vicinity}. Path: {path}. Start: {start}. End: {end}'\n",
    "        \n",
    "        try:\n",
    "            dir_x, dir_y = np.array(np.unravel_index(vicinity.argmax(), vicinity.shape)) - 1\n",
    "        except:\n",
    "            raise KeyError(f'{vicinity.shape} is not valid. x = {x}, y = {y}, dir_x = {dir_x}, dir_y = {dir_y}')\n",
    "        loc = (x + dir_x, y + dir_y)\n",
    "        weight += vicinity.max()\n",
    "        path.append(loc)\n",
    "    \n",
    "    return {'path':path, 'tot_weight':weight, 'avg_weight':weight / len(path)}\n",
    "\n",
    "def get_paths(trails, food_locs, homes):\n",
    "    paths = []\n",
    "    \n",
    "    for start in food_locs:\n",
    "        for end in homes:\n",
    "            paths.append(get_path(trails, start, end))\n",
    "            \n",
    "    return paths\n",
    "\n",
    "def flip(path):\n",
    "    return [p[::-1] for p in path]\n",
    "\n",
    "def gdf_of_paths(paths):\n",
    "    paths = pd.DataFrame(paths)\n",
    "    paths['path_rev'] = paths.path.map(flip)\n",
    "    paths['geometry'] = paths.path_rev.map(LineString)\n",
    "    paths.sort_values('avg_weight', inplace=True)\n",
    "    \n",
    "    return gpd.GeoDataFrame(paths)\n",
    "\n",
    "def decorate(shape):\n",
    "    plt.box(None)\n",
    "    ax.set_xticks([])\n",
    "    ax.set_yticks([])\n",
    "\n",
    "    plt.xlim((0, shape[1]))\n",
    "    plt.ylim((0, shape[0]))"
   ]
  },
  {
   "cell_type": "markdown",
   "id": "5b7e74f0",
   "metadata": {},
   "source": [
    "## slimey"
   ]
  },
  {
   "cell_type": "code",
   "execution_count": null,
   "id": "1b493fbc",
   "metadata": {},
   "outputs": [],
   "source": [
    "reload(slime);"
   ]
  },
  {
   "cell_type": "code",
   "execution_count": 3,
   "id": "bc473e24",
   "metadata": {},
   "outputs": [],
   "source": [
    "def get_random_location(shape):\n",
    "    x = np.random.randint(0, shape[0])\n",
    "    y = np.random.randint(0, shape[1])\n",
    "    \n",
    "    return x, y"
   ]
  },
  {
   "cell_type": "code",
   "execution_count": 4,
   "id": "a92f4dd9",
   "metadata": {},
   "outputs": [
    {
     "name": "stdout",
     "output_type": "stream",
     "text": [
      "Finished after 99\n",
      "There is no more food: 0.0\n",
      "All the agents are home: True\n"
     ]
    }
   ],
   "source": [
    "# Set-up\n",
    "shape = (20, 50)\n",
    "\n",
    "food = np.zeros(shape)\n",
    "\n",
    "for x in range(5):\n",
    "    fx, fy = get_random_location(shape)\n",
    "    food[fx, fy] = np.random.randint(5)\n",
    "\n",
    "petri = slime.PetriDish(shape, food, pheromone_evaporation=0.05)\n",
    "\n",
    "options = {\n",
    "    'shape':shape,\n",
    "    'forward_bias':0.25,\n",
    "    'p_strength':1,\n",
    "    'view_distance':4\n",
    "}\n",
    "\n",
    "# Run\n",
    "agents = [slime.Agent(home=np.array([5, 5]), **options) for x in range(50)]\n",
    "petri.grow_slime(agents)"
   ]
  },
  {
   "cell_type": "code",
   "execution_count": 5,
   "id": "beb84580",
   "metadata": {},
   "outputs": [
    {
     "data": {
      "image/png": "[encoded data removed]",
      "text/plain": [
       "<Figure size 1296x360 with 1 Axes>"
      ]
     },
     "metadata": {},
     "output_type": "display_data"
    }
   ],
   "source": [
    "slime.draw(petri.slime);"
   ]
  },
  {
   "cell_type": "code",
   "execution_count": 6,
   "id": "0887df45",
   "metadata": {},
   "outputs": [
    {
     "data": {
      "image/png": "[encoded data removed]",
      "text/plain": [
       "<Figure size 1296x360 with 1 Axes>"
      ]
     },
     "metadata": {},
     "output_type": "display_data"
    }
   ],
   "source": [
    "slime.draw(petri.pheromones);"
   ]
  },
  {
   "cell_type": "code",
   "execution_count": 7,
   "id": "d76de55f",
   "metadata": {},
   "outputs": [
    {
     "data": {
      "image/png": "[encoded data removed]",
      "text/plain": [
       "<Figure size 1296x360 with 1 Axes>"
      ]
     },
     "metadata": {},
     "output_type": "display_data"
    }
   ],
   "source": [
    "slime.draw(petri.trails);"
   ]
  },
  {
   "cell_type": "code",
   "execution_count": null,
   "id": "ceca2995",
   "metadata": {},
   "outputs": [],
   "source": [
    "anim = petri.animate();"
   ]
  },
  {
   "cell_type": "code",
   "execution_count": null,
   "id": "d3237904",
   "metadata": {},
   "outputs": [],
   "source": [
    "anim"
   ]
  },
  {
   "cell_type": "markdown",
   "id": "9baaa963",
   "metadata": {},
   "source": [
    "## simple test"
   ]
  },
  {
   "cell_type": "code",
   "execution_count": 8,
   "id": "0bdeb2ff",
   "metadata": {},
   "outputs": [
    {
     "name": "stdout",
     "output_type": "stream",
     "text": [
      "Finished after 301\n",
      "There is no more food: 0.0\n",
      "All the agents are home: True\n"
     ]
    }
   ],
   "source": [
    "# Set-up\n",
    "shape = (15, 25)\n",
    "\n",
    "food = np.zeros(shape)\n",
    "\n",
    "for x in range(5):\n",
    "    fx, fy = get_random_location(shape)\n",
    "    food[fx, fy] = 1\n",
    "\n",
    "petri = slime.PetriDish(shape, food, pheromone_evaporation=0.05)\n",
    "\n",
    "options = {\n",
    "    'shape':shape,\n",
    "    'forward_bias':0.25,\n",
    "    'p_strength':1,\n",
    "    'view_distance':3\n",
    "}\n",
    "\n",
    "# Run\n",
    "agents = [slime.Agent(home=np.array([5, 5]), **options) for x in range(1)]\n",
    "petri.grow_slime(agents)"
   ]
  },
  {
   "cell_type": "code",
   "execution_count": 9,
   "id": "4bcedaca",
   "metadata": {},
   "outputs": [
    {
     "data": {
      "image/png": "[encoded data removed]",
      "text/plain": [
       "<Figure size 1296x360 with 1 Axes>"
      ]
     },
     "metadata": {},
     "output_type": "display_data"
    }
   ],
   "source": [
    "slime.draw(petri.slime);"
   ]
  },
  {
   "cell_type": "code",
   "execution_count": 135,
   "id": "0721dc20",
   "metadata": {},
   "outputs": [
    {
     "data": {
      "image/png": "[encoded data removed]",
      "text/plain": [
       "<Figure size 1296x360 with 1 Axes>"
      ]
     },
     "metadata": {},
     "output_type": "display_data"
    }
   ],
   "source": [
    "slime.draw(petri.pheromones);"
   ]
  },
  {
   "cell_type": "code",
   "execution_count": 11,
   "id": "7bcf11fd",
   "metadata": {},
   "outputs": [
    {
     "data": {
      "image/png": "[encoded data removed]",
      "text/plain": [
       "<Figure size 1296x360 with 1 Axes>"
      ]
     },
     "metadata": {},
     "output_type": "display_data"
    }
   ],
   "source": [
    "slime.draw(petri.trails);"
   ]
  },
  {
   "cell_type": "code",
   "execution_count": null,
   "id": "cbbfa254",
   "metadata": {},
   "outputs": [],
   "source": [
    "anim = petri.animate();"
   ]
  },
  {
   "cell_type": "code",
   "execution_count": null,
   "id": "95c4f57e",
   "metadata": {},
   "outputs": [],
   "source": [
    "anim"
   ]
  },
  {
   "cell_type": "markdown",
   "id": "bba608b2",
   "metadata": {},
   "source": [
    "## random edge location"
   ]
  },
  {
   "cell_type": "code",
   "execution_count": null,
   "id": "09deef66",
   "metadata": {},
   "outputs": [],
   "source": [
    "reload(slime);"
   ]
  },
  {
   "cell_type": "code",
   "execution_count": 12,
   "id": "bac00581",
   "metadata": {},
   "outputs": [],
   "source": [
    "def get_random_edge_location(shape):\n",
    "    '''Return a random location on the edge of an array with shape shape.\n",
    "    '''\n",
    "    y_edge, max_side = np.random.randint(2, size=(2,))\n",
    "    a = (shape[y_edge] - 1) * max_side\n",
    "    b = np.random.randint(shape[not y_edge])\n",
    "    \n",
    "    if y_edge: return (b, a)\n",
    "    return (a, b)"
   ]
  },
  {
   "cell_type": "code",
   "execution_count": 296,
   "id": "f5551bc7",
   "metadata": {},
   "outputs": [
    {
     "name": "stdout",
     "output_type": "stream",
     "text": [
      "possible homes: [array([2, 9]), array([3, 4])]\n",
      "Finished after 432\n",
      "There is no more food: 0.0\n",
      "All the agents are home: True\n"
     ]
    }
   ],
   "source": [
    "# Set-up\n",
    "shape = (10, 15)\n",
    "\n",
    "food = np.zeros(shape)\n",
    "food_locs = []\n",
    "homes = [np.array(get_random_location(shape)) for x in range(2)]\n",
    "\n",
    "print(f'possible homes: {homes}')\n",
    "\n",
    "for x in range(5):\n",
    "    fx, fy = get_random_edge_location(shape)\n",
    "    food_locs.append((fx, fy))\n",
    "    food[fx, fy] = 20\n",
    "    \n",
    "petri = slime.PetriDish(shape, food, pheromone_evaporation=0.05)\n",
    "\n",
    "options = {\n",
    "    'shape':shape,\n",
    "    'forward_bias':0.25,\n",
    "    'p_strength':1,\n",
    "    'view_distance':3\n",
    "}\n",
    "\n",
    "# Run\n",
    "agents = [slime.Agent(home=homes[np.random.randint(len(homes))], **options) for x in range(5)]\n",
    "petri.grow_slime(agents)"
   ]
  },
  {
   "cell_type": "code",
   "execution_count": 297,
   "id": "c75644e3",
   "metadata": {},
   "outputs": [
    {
     "data": {
      "image/png": "[encoded data removed]",
      "text/plain": [
       "<Figure size 1296x360 with 1 Axes>"
      ]
     },
     "metadata": {},
     "output_type": "display_data"
    }
   ],
   "source": [
    "slime.draw(petri.slime);"
   ]
  },
  {
   "cell_type": "code",
   "execution_count": 298,
   "id": "85363442",
   "metadata": {},
   "outputs": [
    {
     "data": {
      "image/png": "[encoded data removed]",
      "text/plain": [
       "<Figure size 1296x360 with 1 Axes>"
      ]
     },
     "metadata": {},
     "output_type": "display_data"
    }
   ],
   "source": [
    "slime.draw(petri.pheromones);"
   ]
  },
  {
   "cell_type": "code",
   "execution_count": 299,
   "id": "b2612bde",
   "metadata": {},
   "outputs": [
    {
     "data": {
      "image/png": "[encoded data removed]",
      "text/plain": [
       "<Figure size 1296x360 with 1 Axes>"
      ]
     },
     "metadata": {},
     "output_type": "display_data"
    }
   ],
   "source": [
    "slime.draw(petri.trails);"
   ]
  },
  {
   "cell_type": "code",
   "execution_count": 300,
   "id": "63d32420",
   "metadata": {},
   "outputs": [
    {
     "data": {
      "image/png": "[encoded data removed]",
      "text/plain": [
       "<Figure size 432x288 with 1 Axes>"
      ]
     },
     "metadata": {
      "needs_background": "light"
     },
     "output_type": "display_data"
    }
   ],
   "source": [
    "plt.imshow(petri.trails > 0);"
   ]
  },
  {
   "cell_type": "markdown",
   "id": "732376a9",
   "metadata": {},
   "source": [
    "## extract paths"
   ]
  },
  {
   "cell_type": "code",
   "execution_count": 161,
   "id": "e612a765",
   "metadata": {},
   "outputs": [
    {
     "ename": "AssertionError",
     "evalue": "vicinity must have at least one value gt 0: [[0. 0. 0.]\n [0. 0. 0.]\n [0. 0. 0.]]. Path: [(0, 3), (0, 4), (1, 3), (2, 4), (3, 5), (4, 6), (4, 7), (4, 8), (4, 9), (4, 10), (4, 11), (5, 10), (5, 11), (6, 12), (7, 13), (8, 14), (7, 14), (8, 13), (9, 14), (9, 13), (8, 12), (7, 12), (6, 11), (5, 12), (4, 12), (3, 12), (3, 13), (3, 14), (4, 14), (4, 13)]. Start: (0, 3). End: (0, 10)",
     "output_type": "error",
     "traceback": [
      "\u001b[0;31m---------------------------------------------------------------------------\u001b[0m",
      "\u001b[0;31mAssertionError\u001b[0m                            Traceback (most recent call last)",
      "\u001b[0;32m<ipython-input-161-66b69fdb32f0>\u001b[0m in \u001b[0;36m<module>\u001b[0;34m\u001b[0m\n\u001b[0;32m----> 1\u001b[0;31m \u001b[0mpaths\u001b[0m \u001b[0;34m=\u001b[0m \u001b[0mgdf_of_paths\u001b[0m\u001b[0;34m(\u001b[0m\u001b[0mget_paths\u001b[0m\u001b[0;34m(\u001b[0m\u001b[0mpetri\u001b[0m\u001b[0;34m.\u001b[0m\u001b[0mtrails\u001b[0m\u001b[0;34m,\u001b[0m \u001b[0mfood_locs\u001b[0m\u001b[0;34m,\u001b[0m \u001b[0;34m[\u001b[0m\u001b[0mtuple\u001b[0m\u001b[0;34m(\u001b[0m\u001b[0mh\u001b[0m\u001b[0;34m)\u001b[0m \u001b[0;32mfor\u001b[0m \u001b[0mh\u001b[0m \u001b[0;32min\u001b[0m \u001b[0mhomes\u001b[0m\u001b[0;34m]\u001b[0m\u001b[0;34m)\u001b[0m\u001b[0;34m)\u001b[0m\u001b[0;34m\u001b[0m\u001b[0;34m\u001b[0m\u001b[0m\n\u001b[0m\u001b[1;32m      2\u001b[0m \u001b[0mpaths\u001b[0m\u001b[0;34m[\u001b[0m\u001b[0;34m'path_weight'\u001b[0m\u001b[0;34m]\u001b[0m \u001b[0;34m=\u001b[0m \u001b[0mnp\u001b[0m\u001b[0;34m.\u001b[0m\u001b[0mlinspace\u001b[0m\u001b[0;34m(\u001b[0m\u001b[0;36m1\u001b[0m\u001b[0;34m,\u001b[0m \u001b[0;36m10\u001b[0m\u001b[0;34m,\u001b[0m \u001b[0mnum\u001b[0m\u001b[0;34m=\u001b[0m\u001b[0mlen\u001b[0m\u001b[0;34m(\u001b[0m\u001b[0mpaths\u001b[0m\u001b[0;34m)\u001b[0m\u001b[0;34m)\u001b[0m\u001b[0;34m\u001b[0m\u001b[0;34m\u001b[0m\u001b[0m\n",
      "\u001b[0;32m<ipython-input-152-166334f28ae5>\u001b[0m in \u001b[0;36mget_paths\u001b[0;34m(trails, food_locs, homes)\u001b[0m\n\u001b[1;32m     33\u001b[0m     \u001b[0;32mfor\u001b[0m \u001b[0mstart\u001b[0m \u001b[0;32min\u001b[0m \u001b[0mfood_locs\u001b[0m\u001b[0;34m:\u001b[0m\u001b[0;34m\u001b[0m\u001b[0;34m\u001b[0m\u001b[0m\n\u001b[1;32m     34\u001b[0m         \u001b[0;32mfor\u001b[0m \u001b[0mend\u001b[0m \u001b[0;32min\u001b[0m \u001b[0mhomes\u001b[0m\u001b[0;34m:\u001b[0m\u001b[0;34m\u001b[0m\u001b[0;34m\u001b[0m\u001b[0m\n\u001b[0;32m---> 35\u001b[0;31m             \u001b[0mpaths\u001b[0m\u001b[0;34m.\u001b[0m\u001b[0mappend\u001b[0m\u001b[0;34m(\u001b[0m\u001b[0mget_path\u001b[0m\u001b[0;34m(\u001b[0m\u001b[0mtrails\u001b[0m\u001b[0;34m,\u001b[0m \u001b[0mstart\u001b[0m\u001b[0;34m,\u001b[0m \u001b[0mend\u001b[0m\u001b[0;34m)\u001b[0m\u001b[0;34m)\u001b[0m\u001b[0;34m\u001b[0m\u001b[0;34m\u001b[0m\u001b[0m\n\u001b[0m\u001b[1;32m     36\u001b[0m \u001b[0;34m\u001b[0m\u001b[0m\n\u001b[1;32m     37\u001b[0m     \u001b[0;32mreturn\u001b[0m \u001b[0mpaths\u001b[0m\u001b[0;34m\u001b[0m\u001b[0;34m\u001b[0m\u001b[0m\n",
      "\u001b[0;32m<ipython-input-152-166334f28ae5>\u001b[0m in \u001b[0;36mget_path\u001b[0;34m(trails, start, end)\u001b[0m\n\u001b[1;32m     16\u001b[0m         \u001b[0mvicinity\u001b[0m \u001b[0;34m=\u001b[0m \u001b[0mnp\u001b[0m\u001b[0;34m.\u001b[0m\u001b[0mpad\u001b[0m\u001b[0;34m(\u001b[0m\u001b[0mtrails\u001b[0m\u001b[0;34m,\u001b[0m \u001b[0;36m1\u001b[0m\u001b[0;34m)\u001b[0m\u001b[0;34m[\u001b[0m\u001b[0mx\u001b[0m\u001b[0;34m:\u001b[0m\u001b[0mx\u001b[0m\u001b[0;34m+\u001b[0m\u001b[0;36m3\u001b[0m\u001b[0;34m,\u001b[0m \u001b[0my\u001b[0m\u001b[0;34m:\u001b[0m\u001b[0my\u001b[0m\u001b[0;34m+\u001b[0m\u001b[0;36m3\u001b[0m\u001b[0;34m]\u001b[0m\u001b[0;34m\u001b[0m\u001b[0;34m\u001b[0m\u001b[0m\n\u001b[1;32m     17\u001b[0m \u001b[0;34m\u001b[0m\u001b[0m\n\u001b[0;32m---> 18\u001b[0;31m         \u001b[0;32massert\u001b[0m \u001b[0mvicinity\u001b[0m\u001b[0;34m.\u001b[0m\u001b[0msum\u001b[0m\u001b[0;34m(\u001b[0m\u001b[0;34m)\u001b[0m \u001b[0;34m>\u001b[0m \u001b[0;36m0\u001b[0m\u001b[0;34m,\u001b[0m \u001b[0;34mf'vicinity must have at least one value gt 0: {vicinity}. Path: {path}. Start: {start}. End: {end}'\u001b[0m\u001b[0;34m\u001b[0m\u001b[0;34m\u001b[0m\u001b[0m\n\u001b[0m\u001b[1;32m     19\u001b[0m \u001b[0;34m\u001b[0m\u001b[0m\n\u001b[1;32m     20\u001b[0m         \u001b[0;32mtry\u001b[0m\u001b[0;34m:\u001b[0m\u001b[0;34m\u001b[0m\u001b[0;34m\u001b[0m\u001b[0m\n",
      "\u001b[0;31mAssertionError\u001b[0m: vicinity must have at least one value gt 0: [[0. 0. 0.]\n [0. 0. 0.]\n [0. 0. 0.]]. Path: [(0, 3), (0, 4), (1, 3), (2, 4), (3, 5), (4, 6), (4, 7), (4, 8), (4, 9), (4, 10), (4, 11), (5, 10), (5, 11), (6, 12), (7, 13), (8, 14), (7, 14), (8, 13), (9, 14), (9, 13), (8, 12), (7, 12), (6, 11), (5, 12), (4, 12), (3, 12), (3, 13), (3, 14), (4, 14), (4, 13)]. Start: (0, 3). End: (0, 10)"
     ]
    }
   ],
   "source": [
    "paths = gdf_of_paths(get_paths(petri.trails, food_locs, [tuple(h) for h in homes]))\n",
    "paths['path_weight'] = np.linspace(1, 10, num=len(paths))"
   ]
  },
  {
   "cell_type": "code",
   "execution_count": 162,
   "id": "aa774735",
   "metadata": {},
   "outputs": [
    {
     "data": {
      "image/svg+xml": [
       "<svg xmlns=\"http://www.w3.org/2000/svg\" xmlns:xlink=\"http://www.w3.org/1999/xlink\" width=\"100.0\" height=\"100.0\" viewBox=\"-0.44 2.56 9.879999999999999 11.879999999999999\" preserveAspectRatio=\"xMinYMin meet\"><g transform=\"matrix(1,0,0,-1,0,17.0)\"><polyline fill=\"none\" stroke=\"#66cc99\" stroke-width=\"0.23759999999999998\" points=\"0.0,3.0 0.0,4.0 1.0,3.0 2.0,4.0 3.0,5.0 4.0,6.0 4.0,7.0 4.0,8.0 4.0,9.0 4.0,10.0 4.0,11.0 5.0,10.0 5.0,11.0 6.0,12.0 7.0,13.0 8.0,14.0 7.0,14.0 8.0,13.0 9.0,14.0 9.0,13.0 8.0,12.0 7.0,12.0 6.0,11.0 5.0,12.0 4.0,12.0 3.0,12.0 3.0,13.0 3.0,14.0 4.0,14.0 4.0,13.0\" opacity=\"0.8\" /></g></svg>"
      ],
      "text/plain": [
       "<shapely.geometry.linestring.LineString at 0x120b1c908>"
      ]
     },
     "execution_count": 162,
     "metadata": {},
     "output_type": "execute_result"
    }
   ],
   "source": [
    "LineString([(0, 3), (0, 4), (1, 3), (2, 4), (3, 5), (4, 6), (4, 7), (4, 8), (4, 9), (4, 10), (4, 11), (5, 10), (5, 11), (6, 12), (7, 13), (8, 14), (7, 14), (8, 13), (9, 14), (9, 13), (8, 12), (7, 12), (6, 11), (5, 12), (4, 12), (3, 12), (3, 13), (3, 14), (4, 14), (4, 13)])"
   ]
  },
  {
   "cell_type": "code",
   "execution_count": 84,
   "id": "bf31b244",
   "metadata": {},
   "outputs": [
    {
     "data": {
      "image/png": "[encoded data removed]",
      "text/plain": [
       "<Figure size 1008x1008 with 1 Axes>"
      ]
     },
     "metadata": {},
     "output_type": "display_data"
    }
   ],
   "source": [
    "fig, ax = plt.subplots(figsize=(14, 14))\n",
    "\n",
    "paths.plot(ax=ax, linewidth=paths.path_weight)\n",
    "decorate(petri.shape)\n",
    "\n",
    "plt.show();"
   ]
  },
  {
   "cell_type": "markdown",
   "id": "feecd34e",
   "metadata": {},
   "source": [
    "## extract nx shortest paths"
   ]
  },
  {
   "cell_type": "code",
   "execution_count": 349,
   "id": "7d3372e1",
   "metadata": {},
   "outputs": [],
   "source": [
    "from shapely.geometry import LineString\n",
    "import geopandas as gpd, networkx as nx\n",
    "\n",
    "def get_trails_graph(trails):\n",
    "    a_max = trails.shape[0] * trails.shape[1] - 1\n",
    "\n",
    "    G = nx.Graph()\n",
    "\n",
    "    ix = 0\n",
    "\n",
    "    for x in range(trails.shape[0]):\n",
    "        for y in range(trails.shape[1]):\n",
    "            G.add_node(ix, weight=trails[x, y])\n",
    "            for neigh in get_neighbors(x, y, trails.shape):\n",
    "                neigh_ix = neigh[0] + neigh[1] * trails.shape[0]\n",
    "                if ix != neigh_ix:\n",
    "                    G.add_edge(ix, neigh_ix, weight=trails[x, y] + trails[neigh[0], neigh[1]])\n",
    "            ix += 1\n",
    "\n",
    "    drop_nodes = [node for node, data in G.nodes(data=True) if data['weight'] == 0]\n",
    "    for node in drop_nodes: G.remove_node(node)\n",
    "            \n",
    "    return G\n",
    "\n",
    "def get_neighbors(x, y, shape):\n",
    "    neighs = []\n",
    "    \n",
    "    xs = [v for v in np.arange(x - 1, x + 2, 1) if v >= 0 and v < shape[0]]\n",
    "    ys = [v for v in np.arange(y - 1, y + 2, 1) if v >= 0 and v < shape[0]]\n",
    "    \n",
    "    for xv in xs:\n",
    "        for yv in ys:\n",
    "            if xv != x or yv != y:\n",
    "                neighs.append((xv, yv))\n",
    "                \n",
    "    return neighs\n",
    "\n",
    "def get_path(trails, G, start, end):\n",
    "    x, y = start\n",
    "    start_node = x + y * trails.shape[0]\n",
    "    \n",
    "    x, y = end\n",
    "    end_node = x + y * trails.shape[0]\n",
    "    \n",
    "    short_path = nx.shortest_path(G, start_node, end_node, weight='weight')\n",
    "    return [np.unravel_index(ix, trails.shape) for ix in short_path]\n",
    "\n",
    "def get_paths(trails, food_locs, homes):\n",
    "    paths = []\n",
    "    \n",
    "    G = get_trails_graph(trails)\n",
    "    \n",
    "    for start in food_locs:\n",
    "        for end in homes:\n",
    "            paths.append(get_path(trails, G, start, end))\n",
    "            \n",
    "    return paths\n",
    "\n",
    "def flip(path):\n",
    "    return [p[::-1] for p in path]\n",
    "\n",
    "def gdf_of_paths(paths):\n",
    "    paths = pd.DataFrame(paths)\n",
    "    paths['path_rev'] = paths.path.map(flip)\n",
    "    paths['geometry'] = paths.path_rev.map(LineString)\n",
    "    paths.sort_values('avg_weight', inplace=True)\n",
    "    \n",
    "    return gpd.GeoDataFrame(paths)\n",
    "\n",
    "def decorate(shape):\n",
    "    plt.box(None)\n",
    "    ax.set_xticks([])\n",
    "    ax.set_yticks([])\n",
    "\n",
    "    plt.xlim((0, shape[1]))\n",
    "    plt.ylim((0, shape[0]))"
   ]
  },
  {
   "cell_type": "code",
   "execution_count": 341,
   "id": "463b96b3",
   "metadata": {},
   "outputs": [
    {
     "data": {
      "text/plain": [
       "[(9, 3), (9, 6), (0, 5), (3, 0), (1, 14)]"
      ]
     },
     "execution_count": 341,
     "metadata": {},
     "output_type": "execute_result"
    }
   ],
   "source": [
    "food_locs"
   ]
  },
  {
   "cell_type": "code",
   "execution_count": 342,
   "id": "e721abcb",
   "metadata": {},
   "outputs": [
    {
     "data": {
      "text/plain": [
       "[(2, 9), (3, 4)]"
      ]
     },
     "execution_count": 342,
     "metadata": {},
     "output_type": "execute_result"
    }
   ],
   "source": [
    "[tuple(h) for h in homes]"
   ]
  },
  {
   "cell_type": "code",
   "execution_count": null,
   "id": "52efdc37",
   "metadata": {},
   "outputs": [],
   "source": []
  },
  {
   "cell_type": "code",
   "execution_count": 343,
   "id": "cf860d61",
   "metadata": {
    "scrolled": false
   },
   "outputs": [
    {
     "ename": "NodeNotFound",
     "evalue": "Either source 24 or target 29 is not in G",
     "output_type": "error",
     "traceback": [
      "\u001b[0;31m---------------------------------------------------------------------------\u001b[0m",
      "\u001b[0;31mNodeNotFound\u001b[0m                              Traceback (most recent call last)",
      "\u001b[0;32m<ipython-input-343-25b8629de97d>\u001b[0m in \u001b[0;36m<module>\u001b[0;34m\u001b[0m\n\u001b[0;32m----> 1\u001b[0;31m \u001b[0mpaths\u001b[0m \u001b[0;34m=\u001b[0m \u001b[0mgdf_of_paths\u001b[0m\u001b[0;34m(\u001b[0m\u001b[0mget_paths\u001b[0m\u001b[0;34m(\u001b[0m\u001b[0mpetri\u001b[0m\u001b[0;34m.\u001b[0m\u001b[0mtrails\u001b[0m\u001b[0;34m,\u001b[0m \u001b[0mfood_locs\u001b[0m\u001b[0;34m,\u001b[0m \u001b[0;34m[\u001b[0m\u001b[0mtuple\u001b[0m\u001b[0;34m(\u001b[0m\u001b[0mh\u001b[0m\u001b[0;34m)\u001b[0m \u001b[0;32mfor\u001b[0m \u001b[0mh\u001b[0m \u001b[0;32min\u001b[0m \u001b[0mhomes\u001b[0m\u001b[0;34m]\u001b[0m\u001b[0;34m)\u001b[0m\u001b[0;34m)\u001b[0m\u001b[0;34m\u001b[0m\u001b[0;34m\u001b[0m\u001b[0m\n\u001b[0m\u001b[1;32m      2\u001b[0m \u001b[0;31m# paths['path_weight'] = np.linspace(1, 10, num=len(paths))\u001b[0m\u001b[0;34m\u001b[0m\u001b[0;34m\u001b[0m\u001b[0;34m\u001b[0m\u001b[0m\n",
      "\u001b[0;32m<ipython-input-340-70ff1496bf02>\u001b[0m in \u001b[0;36mget_paths\u001b[0;34m(trails, food_locs, homes)\u001b[0m\n\u001b[1;32m     53\u001b[0m     \u001b[0;32mfor\u001b[0m \u001b[0mstart\u001b[0m \u001b[0;32min\u001b[0m \u001b[0mfood_locs\u001b[0m\u001b[0;34m:\u001b[0m\u001b[0;34m\u001b[0m\u001b[0;34m\u001b[0m\u001b[0m\n\u001b[1;32m     54\u001b[0m         \u001b[0;32mfor\u001b[0m \u001b[0mend\u001b[0m \u001b[0;32min\u001b[0m \u001b[0mhomes\u001b[0m\u001b[0;34m:\u001b[0m\u001b[0;34m\u001b[0m\u001b[0;34m\u001b[0m\u001b[0m\n\u001b[0;32m---> 55\u001b[0;31m             \u001b[0mpaths\u001b[0m\u001b[0;34m.\u001b[0m\u001b[0mappend\u001b[0m\u001b[0;34m(\u001b[0m\u001b[0mget_path\u001b[0m\u001b[0;34m(\u001b[0m\u001b[0mtrails\u001b[0m\u001b[0;34m,\u001b[0m \u001b[0mG\u001b[0m\u001b[0;34m,\u001b[0m \u001b[0mstart\u001b[0m\u001b[0;34m,\u001b[0m \u001b[0mend\u001b[0m\u001b[0;34m)\u001b[0m\u001b[0;34m)\u001b[0m\u001b[0;34m\u001b[0m\u001b[0;34m\u001b[0m\u001b[0m\n\u001b[0m\u001b[1;32m     56\u001b[0m \u001b[0;34m\u001b[0m\u001b[0m\n\u001b[1;32m     57\u001b[0m     \u001b[0;32mreturn\u001b[0m \u001b[0mpaths\u001b[0m\u001b[0;34m\u001b[0m\u001b[0;34m\u001b[0m\u001b[0m\n",
      "\u001b[0;32m<ipython-input-340-70ff1496bf02>\u001b[0m in \u001b[0;36mget_path\u001b[0;34m(trails, G, start, end)\u001b[0m\n\u001b[1;32m     43\u001b[0m     \u001b[0mend_node\u001b[0m \u001b[0;34m=\u001b[0m \u001b[0mx\u001b[0m \u001b[0;34m+\u001b[0m \u001b[0my\u001b[0m \u001b[0;34m*\u001b[0m \u001b[0mtrails\u001b[0m\u001b[0;34m.\u001b[0m\u001b[0mshape\u001b[0m\u001b[0;34m[\u001b[0m\u001b[0;36m0\u001b[0m\u001b[0;34m]\u001b[0m\u001b[0;34m\u001b[0m\u001b[0;34m\u001b[0m\u001b[0m\n\u001b[1;32m     44\u001b[0m \u001b[0;34m\u001b[0m\u001b[0m\n\u001b[0;32m---> 45\u001b[0;31m     \u001b[0mshort_path\u001b[0m \u001b[0;34m=\u001b[0m \u001b[0mnx\u001b[0m\u001b[0;34m.\u001b[0m\u001b[0mshortest_path\u001b[0m\u001b[0;34m(\u001b[0m\u001b[0mG\u001b[0m\u001b[0;34m,\u001b[0m \u001b[0mstart_node\u001b[0m\u001b[0;34m,\u001b[0m \u001b[0mend_node\u001b[0m\u001b[0;34m,\u001b[0m \u001b[0mweight\u001b[0m\u001b[0;34m=\u001b[0m\u001b[0;34m'weight'\u001b[0m\u001b[0;34m)\u001b[0m\u001b[0;34m\u001b[0m\u001b[0;34m\u001b[0m\u001b[0m\n\u001b[0m\u001b[1;32m     46\u001b[0m     \u001b[0;32mreturn\u001b[0m \u001b[0;34m[\u001b[0m\u001b[0mnp\u001b[0m\u001b[0;34m.\u001b[0m\u001b[0munravel_index\u001b[0m\u001b[0;34m(\u001b[0m\u001b[0mix\u001b[0m\u001b[0;34m,\u001b[0m \u001b[0mtrails\u001b[0m\u001b[0;34m.\u001b[0m\u001b[0mshape\u001b[0m\u001b[0;34m)\u001b[0m \u001b[0;32mfor\u001b[0m \u001b[0mix\u001b[0m \u001b[0;32min\u001b[0m \u001b[0mshort_path\u001b[0m\u001b[0;34m]\u001b[0m\u001b[0;34m\u001b[0m\u001b[0;34m\u001b[0m\u001b[0m\n\u001b[1;32m     47\u001b[0m \u001b[0;34m\u001b[0m\u001b[0m\n",
      "\u001b[0;32m~/anaconda3/lib/python3.7/site-packages/networkx/algorithms/shortest_paths/generic.py\u001b[0m in \u001b[0;36mshortest_path\u001b[0;34m(G, source, target, weight, method)\u001b[0m\n\u001b[1;32m    160\u001b[0m                 \u001b[0mpaths\u001b[0m \u001b[0;34m=\u001b[0m \u001b[0mnx\u001b[0m\u001b[0;34m.\u001b[0m\u001b[0mbidirectional_shortest_path\u001b[0m\u001b[0;34m(\u001b[0m\u001b[0mG\u001b[0m\u001b[0;34m,\u001b[0m \u001b[0msource\u001b[0m\u001b[0;34m,\u001b[0m \u001b[0mtarget\u001b[0m\u001b[0;34m)\u001b[0m\u001b[0;34m\u001b[0m\u001b[0;34m\u001b[0m\u001b[0m\n\u001b[1;32m    161\u001b[0m             \u001b[0;32melif\u001b[0m \u001b[0mmethod\u001b[0m \u001b[0;34m==\u001b[0m \u001b[0;34m\"dijkstra\"\u001b[0m\u001b[0;34m:\u001b[0m\u001b[0;34m\u001b[0m\u001b[0;34m\u001b[0m\u001b[0m\n\u001b[0;32m--> 162\u001b[0;31m                 \u001b[0m_\u001b[0m\u001b[0;34m,\u001b[0m \u001b[0mpaths\u001b[0m \u001b[0;34m=\u001b[0m \u001b[0mnx\u001b[0m\u001b[0;34m.\u001b[0m\u001b[0mbidirectional_dijkstra\u001b[0m\u001b[0;34m(\u001b[0m\u001b[0mG\u001b[0m\u001b[0;34m,\u001b[0m \u001b[0msource\u001b[0m\u001b[0;34m,\u001b[0m \u001b[0mtarget\u001b[0m\u001b[0;34m,\u001b[0m \u001b[0mweight\u001b[0m\u001b[0;34m)\u001b[0m\u001b[0;34m\u001b[0m\u001b[0;34m\u001b[0m\u001b[0m\n\u001b[0m\u001b[1;32m    163\u001b[0m             \u001b[0;32melse\u001b[0m\u001b[0;34m:\u001b[0m  \u001b[0;31m# method == 'bellman-ford':\u001b[0m\u001b[0;34m\u001b[0m\u001b[0;34m\u001b[0m\u001b[0m\n\u001b[1;32m    164\u001b[0m                 \u001b[0mpaths\u001b[0m \u001b[0;34m=\u001b[0m \u001b[0mnx\u001b[0m\u001b[0;34m.\u001b[0m\u001b[0mbellman_ford_path\u001b[0m\u001b[0;34m(\u001b[0m\u001b[0mG\u001b[0m\u001b[0;34m,\u001b[0m \u001b[0msource\u001b[0m\u001b[0;34m,\u001b[0m \u001b[0mtarget\u001b[0m\u001b[0;34m,\u001b[0m \u001b[0mweight\u001b[0m\u001b[0;34m)\u001b[0m\u001b[0;34m\u001b[0m\u001b[0;34m\u001b[0m\u001b[0m\n",
      "\u001b[0;32m~/anaconda3/lib/python3.7/site-packages/networkx/algorithms/shortest_paths/weighted.py\u001b[0m in \u001b[0;36mbidirectional_dijkstra\u001b[0;34m(G, source, target, weight)\u001b[0m\n\u001b[1;32m   2051\u001b[0m     \u001b[0;32mif\u001b[0m \u001b[0msource\u001b[0m \u001b[0;32mnot\u001b[0m \u001b[0;32min\u001b[0m \u001b[0mG\u001b[0m \u001b[0;32mor\u001b[0m \u001b[0mtarget\u001b[0m \u001b[0;32mnot\u001b[0m \u001b[0;32min\u001b[0m \u001b[0mG\u001b[0m\u001b[0;34m:\u001b[0m\u001b[0;34m\u001b[0m\u001b[0;34m\u001b[0m\u001b[0m\n\u001b[1;32m   2052\u001b[0m         \u001b[0mmsg\u001b[0m \u001b[0;34m=\u001b[0m \u001b[0;34mf\"Either source {source} or target {target} is not in G\"\u001b[0m\u001b[0;34m\u001b[0m\u001b[0;34m\u001b[0m\u001b[0m\n\u001b[0;32m-> 2053\u001b[0;31m         \u001b[0;32mraise\u001b[0m \u001b[0mnx\u001b[0m\u001b[0;34m.\u001b[0m\u001b[0mNodeNotFound\u001b[0m\u001b[0;34m(\u001b[0m\u001b[0mmsg\u001b[0m\u001b[0;34m)\u001b[0m\u001b[0;34m\u001b[0m\u001b[0;34m\u001b[0m\u001b[0m\n\u001b[0m\u001b[1;32m   2054\u001b[0m \u001b[0;34m\u001b[0m\u001b[0m\n\u001b[1;32m   2055\u001b[0m     \u001b[0;32mif\u001b[0m \u001b[0msource\u001b[0m \u001b[0;34m==\u001b[0m \u001b[0mtarget\u001b[0m\u001b[0;34m:\u001b[0m\u001b[0;34m\u001b[0m\u001b[0;34m\u001b[0m\u001b[0m\n",
      "\u001b[0;31mNodeNotFound\u001b[0m: Either source 24 or target 29 is not in G"
     ]
    }
   ],
   "source": [
    "paths = gdf_of_paths(get_paths(petri.trails, food_locs, [tuple(h) for h in homes]))\n",
    "# paths['path_weight'] = np.linspace(1, 10, num=len(paths))"
   ]
  },
  {
   "cell_type": "code",
   "execution_count": 344,
   "id": "32b3fd21",
   "metadata": {},
   "outputs": [],
   "source": [
    "G = get_trails_graph(petri.trails)"
   ]
  },
  {
   "cell_type": "code",
   "execution_count": 345,
   "id": "d6de64a6",
   "metadata": {},
   "outputs": [
    {
     "data": {
      "text/plain": [
       "52.0"
      ]
     },
     "execution_count": 345,
     "metadata": {},
     "output_type": "execute_result"
    }
   ],
   "source": [
    "petri.trails[3, 0]"
   ]
  },
  {
   "cell_type": "code",
   "execution_count": 339,
   "id": "a5d99cf8",
   "metadata": {},
   "outputs": [
    {
     "data": {
      "image/png": "[encoded data removed]",
      "text/plain": [
       "<Figure size 1296x360 with 1 Axes>"
      ]
     },
     "metadata": {},
     "output_type": "display_data"
    }
   ],
   "source": [
    "slime.draw(petri.trails);"
   ]
  },
  {
   "cell_type": "code",
   "execution_count": 348,
   "id": "704a7dfa",
   "metadata": {},
   "outputs": [
    {
     "data": {
      "text/plain": [
       "{'weight': 46.0}"
      ]
     },
     "execution_count": 348,
     "metadata": {},
     "output_type": "execute_result"
    }
   ],
   "source": [
    "G.nodes[29]"
   ]
  },
  {
   "cell_type": "code",
   "execution_count": null,
   "id": "1f9e02e4",
   "metadata": {},
   "outputs": [],
   "source": []
  }
 ],
 "metadata": {
  "kernelspec": {
   "display_name": "Python 3",
   "language": "python",
   "name": "python3"
  },
  "language_info": {
   "codemirror_mode": {
    "name": "ipython",
    "version": 3
   },
   "file_extension": ".py",
   "mimetype": "text/x-python",
   "name": "python",
   "nbconvert_exporter": "python",
   "pygments_lexer": "ipython3",
   "version": "3.7.3"
  },
  "toc": {
   "base_numbering": 1,
   "nav_menu": {},
   "number_sections": true,
   "sideBar": true,
   "skip_h1_title": true,
   "title_cell": "nav",
   "title_sidebar": "nav",
   "toc_cell": false,
   "toc_position": {
    "height": "calc(100% - 180px)",
    "left": "10px",
    "top": "150px",
    "width": "243px"
   },
   "toc_section_display": true,
   "toc_window_display": true
  }
 },
 "nbformat": 4,
 "nbformat_minor": 5
}
